{
 "cells": [
  {
   "cell_type": "markdown",
   "metadata": {},
   "source": [
    "Making predictions about the future is called extrapolation in the classical statistical handling of \n",
    "time series data. More modern fields focus on the topic and refer to it as time series forecasting.\n",
    "Forecasting involves taking models fit on historical data and using them to predict future\n",
    "observations. Descriptive models can borrow from the future (i.e. to smooth or remove noise),\n",
    "they only seek to best describe the data. An important distinction in forecasting is that the\n",
    "future is completely unavailable and must only be estimated from what has already happened.\n",
    "The skill of a time series forecasting model is determined by its performance at predicting\n",
    "the future. This is often at the expense of being able to explain why a specific prediction was\n",
    "made, confidence intervals and even better understanding the underlying causes behind the\n",
    "problem."
   ]
  },
  {
   "cell_type": "markdown",
   "metadata": {},
   "source": [
    "* Level. The baseline value for the series if it were a straight line.\n",
    " Trend. The optional and often linear increasing or decreasing behavior of the series over\n",
    "time.\n",
    "\n",
    "* Seasonality. The optional repeating patterns or cycles of behavior over time.\n",
    "\n",
    "* Noise. The optional variability in the observations that cannot be explained by the\n",
    "model"
   ]
  },
  {
   "cell_type": "markdown",
   "metadata": {},
   "source": [
    "### Questions \n",
    "1. How much data do you have available and are you able to gather it all together?\n",
    "\n",
    "- More data is often more helpful, offering greater opportunity for exploratory data analysis,\n",
    "model testing and tuning, and model fidelity.\n",
    "2. What is the time horizon of predictions that is required? Short, medium or long\n",
    "term? \n",
    "- Shorter time horizons are often easier to predict with higher confidence.\n",
    "3. Can forecasts be updated frequently over time or must they be made once\n",
    "and remain static?\n",
    "- Updating forecasts as new information becomes available often\n",
    "results in more accurate predictions.\n",
    "4. At what temporal frequency are forecasts required? \n",
    "- Often forecasts can be made at a lower or higher frequencies, allowing you to harness down-sampling, and up-sampling\n",
    "of data, which in turn can offer benefits while modeling."
   ]
  },
  {
   "cell_type": "markdown",
   "metadata": {},
   "source": [
    "### Things to work before moving ahead\n",
    "\n",
    "- Frequency. Perhaps data is provided at a frequency that is too high to model or is\n",
    "unevenly spaced through time requiring resampling for use in some models.\n",
    "- Outliers. Perhaps there are corrupt or extreme outlier values that need to be identified\n",
    "and handled.\n",
    "- Missing. Perhaps there are gaps or missing data that need to be interpolated or imputed."
   ]
  },
  {
   "cell_type": "markdown",
   "metadata": {},
   "source": [
    "### Example Problems\n",
    "\n",
    " - Forecasting the corn yield in tons by state each year.\n",
    " - Forecasting whether an EEG trace in seconds indicates a patient is having a seizure or\n",
    "not.\n",
    "- Forecasting the closing price of a stock each day.\n",
    "- Forecasting the birth rate at all hospitals in a city each year.\n",
    "- Forecasting product sales in units sold each day for a store.\n",
    "- Forecasting the number of passengers through a train station each day.\n",
    "- Forecasting unemployment for a state each quarter.\n",
    "- Forecasting utilization demand on a server each hour.\n",
    "- Forecasting the size of the rabbit population in a state each breeding season.\n",
    "- Forecasting the average price of gasoline in a city each day."
   ]
  },
  {
   "cell_type": "code",
   "execution_count": null,
   "metadata": {},
   "outputs": [],
   "source": []
  }
 ],
 "metadata": {
  "language_info": {
   "name": "python"
  }
 },
 "nbformat": 4,
 "nbformat_minor": 2
}
